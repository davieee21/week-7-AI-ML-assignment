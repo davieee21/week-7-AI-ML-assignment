{
 "cells": [
  {
   "cell_type": "markdown",
   "id": "efae7694",
   "metadata": {},
   "source": [
    "# 🧠 FairJustice AI  \n",
    "## A Fairness Audit of the COMPAS Risk Assessment System Using AI Fairness 360\n",
    "\n",
    "**Author:** Davis Ongeri and Team  \n",
    "**Course:** AI Ethics – PLP Academy  \n",
    "**Toolkit:** IBM AI Fairness 360  \n",
    "\n",
    "---\n",
    "\n",
    "This project evaluates the **racial bias** present in the **COMPAS Recidivism Risk Score** system using Python and IBM’s `AI Fairness 360` toolkit.  \n",
    "\n",
    "The goal is to:\n",
    "- Detect bias in false positive rates and fairness metrics  \n",
    "- Apply bias mitigation using **Reweighing**  \n",
    "- Visualize results  \n",
    "- Recommend steps toward more ethical AI deployment in justice systems  \n"
   ]
  },
  {
   "cell_type": "code",
   "execution_count": 4,
   "id": "4a4b8ed0",
   "metadata": {},
   "outputs": [],
   "source": [
    "# ⚠️ Run this cell only once to install AI Fairness 360 and other dependencies\n",
    "# pip install aif360 pandas matplotlib scikit-learn --quiet\n"
   ]
  },
  {
   "cell_type": "code",
   "execution_count": 5,
   "id": "545109e7",
   "metadata": {},
   "outputs": [],
   "source": [
    "import matplotlib.pyplot as plt\n",
    "from aif360.datasets import CompasDataset\n",
    "from aif360.metrics import ClassificationMetric\n",
    "from aif360.algorithms.preprocessing import Reweighing\n",
    "from sklearn.linear_model import LogisticRegression\n",
    "from sklearn.preprocessing import StandardScaler\n",
    "import numpy as np\n"
   ]
  },
  {
   "cell_type": "markdown",
   "id": "a589ba5b",
   "metadata": {},
   "source": [
    "## 🔍 Load and Explore COMPAS Dataset\n",
    "\n",
    "The COMPAS dataset contains criminal history and demographic info used to predict **recidivism risk**. This tool has faced criticism for unfair treatment of African-American defendants.\n"
   ]
  },
  {
   "cell_type": "code",
   "execution_count": 6,
   "id": "ceb96343",
   "metadata": {},
   "outputs": [
    {
     "name": "stderr",
     "output_type": "stream",
     "text": [
      "WARNING:root:Missing Data: 5 rows removed from CompasDataset.\n"
     ]
    }
   ],
   "source": [
    "# Load the COMPAS dataset from AI Fairness 360\n",
    "dataset = CompasDataset()\n",
    "\n",
    "# Define protected attribute: Race (1 = Caucasian, 0 = African-American)\n",
    "privileged = [{'race': 1}]\n",
    "unprivileged = [{'race': 0}]\n"
   ]
  },
  {
   "cell_type": "markdown",
   "id": "d767c0eb",
   "metadata": {},
   "source": [
    "## 🧪 Bias Mitigation: Reweighing\n",
    "\n",
    "We apply **Reweighing**, a preprocessing technique that adjusts sample weights to balance fairness across privileged and unprivileged groups before training.\n"
   ]
  },
  {
   "cell_type": "code",
   "execution_count": 7,
   "id": "98d0b4bf",
   "metadata": {},
   "outputs": [],
   "source": [
    "# Split dataset (70% train, 30% test)\n",
    "train, test = dataset.split([0.7], shuffle=True)\n",
    "\n",
    "# Apply reweighing to reduce bias in training data\n",
    "rw = Reweighing(privileged_groups=privileged, unprivileged_groups=unprivileged)\n",
    "train_rw = rw.fit_transform(train)\n"
   ]
  },
  {
   "cell_type": "markdown",
   "id": "391d2578",
   "metadata": {},
   "source": [
    "## 🤖 Train Logistic Regression Model\n",
    "\n",
    "We use a simple, interpretable logistic regression classifier to predict recidivism risk after preprocessing.\n"
   ]
  },
  {
   "cell_type": "code",
   "execution_count": 8,
   "id": "3cb65d14",
   "metadata": {},
   "outputs": [],
   "source": [
    "# Standardize features\n",
    "scaler = StandardScaler()\n",
    "X_train = scaler.fit_transform(train_rw.features)\n",
    "y_train = train_rw.labels.ravel()\n",
    "\n",
    "# Train model\n",
    "model = LogisticRegression(solver='liblinear')\n",
    "model.fit(X_train, y_train)\n",
    "\n",
    "# Predict on test set\n",
    "X_test = scaler.transform(test.features)\n",
    "y_pred = model.predict(X_test)\n",
    "\n",
    "# Copy test dataset and insert predictions\n",
    "pred_dataset = test.copy()\n",
    "pred_dataset.labels = y_pred\n"
   ]
  },
  {
   "cell_type": "markdown",
   "id": "0b11ee59",
   "metadata": {},
   "source": [
    "## 📏 Fairness Metrics\n",
    "\n",
    "We evaluate 3 key fairness metrics:  \n",
    "- **False Positive Rate Difference**  \n",
    "- **Equal Opportunity Difference**  \n",
    "- **Disparate Impact**  \n"
   ]
  },
  {
   "cell_type": "code",
   "execution_count": 9,
   "id": "2099e63e",
   "metadata": {},
   "outputs": [
    {
     "name": "stdout",
     "output_type": "stream",
     "text": [
      "📊 False Positive Rate Difference: -0.195\n",
      "📊 Equal Opportunity Difference: -0.106\n",
      "📊 Disparate Impact: 0.751\n"
     ]
    }
   ],
   "source": [
    "# Evaluate fairness metrics\n",
    "metric = ClassificationMetric(test, pred_dataset,\n",
    "                              privileged_groups=privileged,\n",
    "                              unprivileged_groups=unprivileged)\n",
    "\n",
    "# Get results\n",
    "fpr_diff = metric.false_positive_rate_difference()\n",
    "eod_diff = metric.equal_opportunity_difference()\n",
    "disparate_impact = metric.disparate_impact()\n",
    "\n",
    "# Display results\n",
    "print(\"📊 False Positive Rate Difference:\", round(fpr_diff, 3))\n",
    "print(\"📊 Equal Opportunity Difference:\", round(eod_diff, 3))\n",
    "print(\"📊 Disparate Impact:\", round(disparate_impact, 3))\n"
   ]
  },
  {
   "cell_type": "code",
   "execution_count": 10,
   "id": "c99197ff",
   "metadata": {},
   "outputs": [
    {
     "name": "stderr",
     "output_type": "stream",
     "text": [
      "C:\\Users\\user\\AppData\\Local\\Temp\\ipykernel_1880\\1377951331.py:13: UserWarning: Glyph 128202 (\\N{BAR CHART}) missing from font(s) DejaVu Sans.\n",
      "  plt.tight_layout()\n",
      "c:\\Users\\user\\Documents\\plp_learning\\AI-ML\\wk7 assignment\\Fairjustice-ai\\venv\\lib\\site-packages\\IPython\\core\\pylabtools.py:170: UserWarning: Glyph 128202 (\\N{BAR CHART}) missing from font(s) DejaVu Sans.\n",
      "  fig.canvas.print_figure(bytes_io, **kw)\n"
     ]
    },
    {
     "data": {
      "image/png": "[encoded data removed]",
      "text/plain": [
       "<Figure size 800x500 with 1 Axes>"
      ]
     },
     "metadata": {},
     "output_type": "display_data"
    }
   ],
   "source": [
    "# Visualize fairness results\n",
    "metrics = {\n",
    "    'FPR Difference': fpr_diff,\n",
    "    'Equal Opp. Difference': eod_diff,\n",
    "    'Disparate Impact': disparate_impact\n",
    "}\n",
    "\n",
    "plt.figure(figsize=(8,5))\n",
    "plt.bar(metrics.keys(), metrics.values(), color='steelblue')\n",
    "plt.axhline(0, color='gray', linestyle='--')\n",
    "plt.title(\"📊 Fairness Metrics: COMPAS Risk Score Audit\")\n",
    "plt.ylabel(\"Metric Value\")\n",
    "plt.tight_layout()\n",
    "plt.grid(True)\n",
    "plt.show()\n"
   ]
  },
  {
   "cell_type": "markdown",
   "id": "9ea97b6a",
   "metadata": {},
   "source": [
    "## ✅ Conclusion\n",
    "\n",
    "The audit revealed measurable disparities in **false positive rates** and **equal opportunity**, confirming racial bias against African-American defendants.\n",
    "\n",
    "### 🛠 Recommendations:\n",
    "- Use **Reweighing** or **Equalized Odds** in model design\n",
    "- Add **human oversight** to high-risk decisions\n",
    "- Conduct regular **fairness audits**\n",
    "- Adopt **transparent and explainable models**\n",
    "\n",
    "Ethical AI in justice must prioritize **fairness**, **transparency**, and **accountability** — especially in high-stakes applications like criminal sentencing.\n"
   ]
  }
 ],
 "metadata": {
  "kernelspec": {
   "display_name": "venv",
   "language": "python",
   "name": "python3"
  },
  "language_info": {
   "codemirror_mode": {
    "name": "ipython",
    "version": 3
   },
   "file_extension": ".py",
   "mimetype": "text/x-python",
   "name": "python",
   "nbconvert_exporter": "python",
   "pygments_lexer": "ipython3",
   "version": "3.10.10"
  }
 },
 "nbformat": 4,
 "nbformat_minor": 5
}
